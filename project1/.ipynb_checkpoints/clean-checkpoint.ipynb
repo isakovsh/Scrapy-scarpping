{
 "cells": [
  {
   "cell_type": "code",
   "execution_count": 1,
   "metadata": {},
   "outputs": [],
   "source": [
    "import pandas as pd"
   ]
  },
  {
   "cell_type": "code",
   "execution_count": 3,
   "metadata": {},
   "outputs": [],
   "source": [
    "df=pd.read_csv(\"task.csv\")"
   ]
  },
  {
   "cell_type": "code",
   "execution_count": 4,
   "metadata": {},
   "outputs": [
    {
     "data": {
      "text/html": [
       "<div>\n",
       "<style scoped>\n",
       "    .dataframe tbody tr th:only-of-type {\n",
       "        vertical-align: middle;\n",
       "    }\n",
       "\n",
       "    .dataframe tbody tr th {\n",
       "        vertical-align: top;\n",
       "    }\n",
       "\n",
       "    .dataframe thead th {\n",
       "        text-align: right;\n",
       "    }\n",
       "</style>\n",
       "<table border=\"1\" class=\"dataframe\">\n",
       "  <thead>\n",
       "    <tr style=\"text-align: right;\">\n",
       "      <th></th>\n",
       "      <th>title</th>\n",
       "      <th>all_text</th>\n",
       "      <th>day</th>\n",
       "    </tr>\n",
       "  </thead>\n",
       "  <tbody>\n",
       "    <tr>\n",
       "      <th>0</th>\n",
       "      <td>NaN</td>\n",
       "      <td>NaN</td>\n",
       "      <td>NaN</td>\n",
       "    </tr>\n",
       "    <tr>\n",
       "      <th>1</th>\n",
       "      <td>п</td>\n",
       "      <td>NaN</td>\n",
       "      <td>2022-08-26</td>\n",
       "    </tr>\n",
       "    <tr>\n",
       "      <th>2</th>\n",
       "      <td>g</td>\n",
       "      <td>NaN</td>\n",
       "      <td>2022-08-08</td>\n",
       "    </tr>\n",
       "    <tr>\n",
       "      <th>3</th>\n",
       "      <td>Есть вопрос?</td>\n",
       "      <td>Search for... 2023-03-01 2023-02-27 2023-02-27...</td>\n",
       "      <td>NaN</td>\n",
       "    </tr>\n",
       "    <tr>\n",
       "      <th>4</th>\n",
       "      <td>g</td>\n",
       "      <td>NaN</td>\n",
       "      <td>2022-08-08</td>\n",
       "    </tr>\n",
       "    <tr>\n",
       "      <th>5</th>\n",
       "      <td>а</td>\n",
       "      <td>№ Организация Курсы Цена  ( сум) Формат обучен...</td>\n",
       "      <td>2022-11-09</td>\n",
       "    </tr>\n",
       "    <tr>\n",
       "      <th>6</th>\n",
       "      <td>Посол США в Узбекистане Даниэль Розенблюм посе...</td>\n",
       "      <td>9 июня  IT   Park   посетила делегация посольс...</td>\n",
       "      <td>2022-06-09</td>\n",
       "    </tr>\n",
       "    <tr>\n",
       "      <th>7</th>\n",
       "      <td>g</td>\n",
       "      <td>NaN</td>\n",
       "      <td>2022-08-08</td>\n",
       "    </tr>\n",
       "    <tr>\n",
       "      <th>8</th>\n",
       "      <td>Фарход Ибрагимов</td>\n",
       "      <td>\\n                     \\n                     ...</td>\n",
       "      <td>Нашими менторами являются крутые предпринимате...</td>\n",
       "    </tr>\n",
       "  </tbody>\n",
       "</table>\n",
       "</div>"
      ],
      "text/plain": [
       "                                               title  \\\n",
       "0                                                NaN   \n",
       "1                                                  п   \n",
       "2                                                  g   \n",
       "3                                       Есть вопрос?   \n",
       "4                                                  g   \n",
       "5                                                  а   \n",
       "6  Посол США в Узбекистане Даниэль Розенблюм посе...   \n",
       "7                                                  g   \n",
       "8                                   Фарход Ибрагимов   \n",
       "\n",
       "                                            all_text  \\\n",
       "0                                                NaN   \n",
       "1                                                NaN   \n",
       "2                                                NaN   \n",
       "3  Search for... 2023-03-01 2023-02-27 2023-02-27...   \n",
       "4                                                NaN   \n",
       "5  № Организация Курсы Цена  ( сум) Формат обучен...   \n",
       "6  9 июня  IT   Park   посетила делегация посольс...   \n",
       "7                                                NaN   \n",
       "8  \\n                     \\n                     ...   \n",
       "\n",
       "                                                 day  \n",
       "0                                                NaN  \n",
       "1                                         2022-08-26  \n",
       "2                                         2022-08-08  \n",
       "3                                                NaN  \n",
       "4                                         2022-08-08  \n",
       "5                                         2022-11-09  \n",
       "6                                         2022-06-09  \n",
       "7                                         2022-08-08  \n",
       "8  Нашими менторами являются крутые предпринимате...  "
      ]
     },
     "execution_count": 4,
     "metadata": {},
     "output_type": "execute_result"
    }
   ],
   "source": [
    "df"
   ]
  },
  {
   "cell_type": "code",
   "execution_count": null,
   "metadata": {},
   "outputs": [],
   "source": []
  }
 ],
 "metadata": {
  "kernelspec": {
   "display_name": "Python 3 (ipykernel)",
   "language": "python",
   "name": "python3"
  },
  "language_info": {
   "codemirror_mode": {
    "name": "ipython",
    "version": 3
   },
   "file_extension": ".py",
   "mimetype": "text/x-python",
   "name": "python",
   "nbconvert_exporter": "python",
   "pygments_lexer": "ipython3",
   "version": "3.9.13"
  },
  "vscode": {
   "interpreter": {
    "hash": "344b0622a3a5dc64a66e60fdf3b5fa5bcab8b75a9d19e0b4bc106f69c3afda56"
   }
  }
 },
 "nbformat": 4,
 "nbformat_minor": 2
}
