{
 "cells": [
  {
   "cell_type": "code",
   "execution_count": 5,
   "metadata": {},
   "outputs": [],
   "source": [
    "import pandas as pd"
   ]
  },
  {
   "cell_type": "code",
   "execution_count": 9,
   "metadata": {},
   "outputs": [],
   "source": [
    "df=pd.read_csv(\"task.csv\")"
   ]
  },
  {
   "cell_type": "code",
   "execution_count": 10,
   "metadata": {},
   "outputs": [
    {
     "data": {
      "text/html": [
       "<div>\n",
       "<style scoped>\n",
       "    .dataframe tbody tr th:only-of-type {\n",
       "        vertical-align: middle;\n",
       "    }\n",
       "\n",
       "    .dataframe tbody tr th {\n",
       "        vertical-align: top;\n",
       "    }\n",
       "\n",
       "    .dataframe thead th {\n",
       "        text-align: right;\n",
       "    }\n",
       "</style>\n",
       "<table border=\"1\" class=\"dataframe\">\n",
       "  <thead>\n",
       "    <tr style=\"text-align: right;\">\n",
       "      <th></th>\n",
       "      <th>title</th>\n",
       "      <th>all_text</th>\n",
       "      <th>day</th>\n",
       "    </tr>\n",
       "  </thead>\n",
       "  <tbody>\n",
       "    <tr>\n",
       "      <th>0</th>\n",
       "      <td>Success story: История успешного Web Frontend-...</td>\n",
       "      <td>IT Park продолжает рубрику интересных историй ...</td>\n",
       "      <td>2023-03-01</td>\n",
       "    </tr>\n",
       "    <tr>\n",
       "      <th>1</th>\n",
       "      <td>В IT Park прошла встреча с экспортоориентирова...</td>\n",
       "      <td>24 февраля в Ташкентском филиале  IT   Park  п...</td>\n",
       "      <td>2023-02-24</td>\n",
       "    </tr>\n",
       "    <tr>\n",
       "      <th>2</th>\n",
       "      <td>Итоги видеоселекторного совещания по вопросам ...</td>\n",
       "      <td>22 февраля под председательством Президента Уз...</td>\n",
       "      <td>2023-02-23</td>\n",
       "    </tr>\n",
       "    <tr>\n",
       "      <th>3</th>\n",
       "      <td>Визит делегации Европейского парламента в IT Park</td>\n",
       "      <td>22 февраля 2023 года ташкентский филиал  IT   ...</td>\n",
       "      <td>2023-02-24</td>\n",
       "    </tr>\n",
       "    <tr>\n",
       "      <th>4</th>\n",
       "      <td>Edusession: Сроки и бюджет при разработке IT-п...</td>\n",
       "      <td>3 марта в 18:00  в  Ташкентском Государственно...</td>\n",
       "      <td>2023-02-27</td>\n",
       "    </tr>\n",
       "    <tr>\n",
       "      <th>...</th>\n",
       "      <td>...</td>\n",
       "      <td>...</td>\n",
       "      <td>...</td>\n",
       "    </tr>\n",
       "    <tr>\n",
       "      <th>103</th>\n",
       "      <td>Узбекистан и Корея реализуют проекты в сфере э...</td>\n",
       "      <td>26 января министр цифровых технологий Шерзод Ш...</td>\n",
       "      <td>2023-01-27</td>\n",
       "    </tr>\n",
       "    <tr>\n",
       "      <th>104</th>\n",
       "      <td>ICTория успеха: как юрист из Узбекистана покор...</td>\n",
       "      <td>В рамках рубрики «ICTория успеха» IT Park прод...</td>\n",
       "      <td>2023-01-30</td>\n",
       "    </tr>\n",
       "    <tr>\n",
       "      <th>105</th>\n",
       "      <td>Определены победители хакатона Open Data Chall...</td>\n",
       "      <td>С 27 по 29 января в столице состоялся масштабн...</td>\n",
       "      <td>2023-01-31</td>\n",
       "    </tr>\n",
       "    <tr>\n",
       "      <th>106</th>\n",
       "      <td>Success Story: Как зарабатывать $700 в месяц н...</td>\n",
       "      <td>Шодмонов Санжар родился в городе Навои. Первые...</td>\n",
       "      <td>2023-01-31</td>\n",
       "    </tr>\n",
       "    <tr>\n",
       "      <th>107</th>\n",
       "      <td>Завершился проект по поддержке предприниматель...</td>\n",
       "      <td>Поддержка женского предпринимательства и обесп...</td>\n",
       "      <td>2022-12-22</td>\n",
       "    </tr>\n",
       "  </tbody>\n",
       "</table>\n",
       "<p>108 rows × 3 columns</p>\n",
       "</div>"
      ],
      "text/plain": [
       "                                                 title  \\\n",
       "0    Success story: История успешного Web Frontend-...   \n",
       "1    В IT Park прошла встреча с экспортоориентирова...   \n",
       "2    Итоги видеоселекторного совещания по вопросам ...   \n",
       "3    Визит делегации Европейского парламента в IT Park   \n",
       "4    Edusession: Сроки и бюджет при разработке IT-п...   \n",
       "..                                                 ...   \n",
       "103  Узбекистан и Корея реализуют проекты в сфере э...   \n",
       "104  ICTория успеха: как юрист из Узбекистана покор...   \n",
       "105  Определены победители хакатона Open Data Chall...   \n",
       "106  Success Story: Как зарабатывать $700 в месяц н...   \n",
       "107  Завершился проект по поддержке предприниматель...   \n",
       "\n",
       "                                              all_text         day  \n",
       "0    IT Park продолжает рубрику интересных историй ...  2023-03-01  \n",
       "1    24 февраля в Ташкентском филиале  IT   Park  п...  2023-02-24  \n",
       "2    22 февраля под председательством Президента Уз...  2023-02-23  \n",
       "3    22 февраля 2023 года ташкентский филиал  IT   ...  2023-02-24  \n",
       "4    3 марта в 18:00  в  Ташкентском Государственно...  2023-02-27  \n",
       "..                                                 ...         ...  \n",
       "103  26 января министр цифровых технологий Шерзод Ш...  2023-01-27  \n",
       "104  В рамках рубрики «ICTория успеха» IT Park прод...  2023-01-30  \n",
       "105  С 27 по 29 января в столице состоялся масштабн...  2023-01-31  \n",
       "106  Шодмонов Санжар родился в городе Навои. Первые...  2023-01-31  \n",
       "107  Поддержка женского предпринимательства и обесп...  2022-12-22  \n",
       "\n",
       "[108 rows x 3 columns]"
      ]
     },
     "execution_count": 10,
     "metadata": {},
     "output_type": "execute_result"
    }
   ],
   "source": [
    "df"
   ]
  },
  {
   "cell_type": "code",
   "execution_count": null,
   "metadata": {},
   "outputs": [],
   "source": []
  }
 ],
 "metadata": {
  "kernelspec": {
   "display_name": "Python 3 (ipykernel)",
   "language": "python",
   "name": "python3"
  },
  "language_info": {
   "codemirror_mode": {
    "name": "ipython",
    "version": 3
   },
   "file_extension": ".py",
   "mimetype": "text/x-python",
   "name": "python",
   "nbconvert_exporter": "python",
   "pygments_lexer": "ipython3",
   "version": "3.9.13"
  },
  "vscode": {
   "interpreter": {
    "hash": "344b0622a3a5dc64a66e60fdf3b5fa5bcab8b75a9d19e0b4bc106f69c3afda56"
   }
  }
 },
 "nbformat": 4,
 "nbformat_minor": 2
}
